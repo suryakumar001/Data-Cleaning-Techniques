{
 "cells": [
  {
   "cell_type": "markdown",
   "id": "23ba1746",
   "metadata": {
    "papermill": {
     "duration": 0.018394,
     "end_time": "2021-08-12T17:03:49.417262",
     "exception": false,
     "start_time": "2021-08-12T17:03:49.398868",
     "status": "completed"
    },
    "tags": []
   },
   "source": [
    "**This notebook is an exercise in the [Data Cleaning](https://www.kaggle.com/learn/data-cleaning) course.  You can reference the tutorial at [this link](https://www.kaggle.com/alexisbcook/character-encodings).**\n",
    "\n",
    "---\n"
   ]
  },
  {
   "cell_type": "markdown",
   "id": "c992f7ca",
   "metadata": {
    "papermill": {
     "duration": 0.015339,
     "end_time": "2021-08-12T17:03:49.450700",
     "exception": false,
     "start_time": "2021-08-12T17:03:49.435361",
     "status": "completed"
    },
    "tags": []
   },
   "source": [
    "In this exercise, you'll apply what you learned in the **Character encodings** tutorial.\n",
    "\n",
    "# Setup\n",
    "\n",
    "The questions below will give you feedback on your work. Run the following cell to set up the feedback system."
   ]
  },
  {
   "cell_type": "code",
   "execution_count": 1,
   "id": "7eea2a82",
   "metadata": {
    "execution": {
     "iopub.execute_input": "2021-08-12T17:03:49.486485Z",
     "iopub.status.busy": "2021-08-12T17:03:49.485201Z",
     "iopub.status.idle": "2021-08-12T17:03:49.752212Z",
     "shell.execute_reply": "2021-08-12T17:03:49.750797Z",
     "shell.execute_reply.started": "2021-08-12T16:54:05.335209Z"
    },
    "papermill": {
     "duration": 0.285561,
     "end_time": "2021-08-12T17:03:49.752449",
     "exception": false,
     "start_time": "2021-08-12T17:03:49.466888",
     "status": "completed"
    },
    "tags": []
   },
   "outputs": [
    {
     "name": "stdout",
     "output_type": "stream",
     "text": [
      "Setup Complete\n"
     ]
    }
   ],
   "source": [
    "from learntools.core import binder\n",
    "binder.bind(globals())\n",
    "from learntools.data_cleaning.ex4 import *\n",
    "print(\"Setup Complete\")"
   ]
  },
  {
   "cell_type": "markdown",
   "id": "88d096e6",
   "metadata": {
    "papermill": {
     "duration": 0.015583,
     "end_time": "2021-08-12T17:03:49.783675",
     "exception": false,
     "start_time": "2021-08-12T17:03:49.768092",
     "status": "completed"
    },
    "tags": []
   },
   "source": [
    "# Get our environment set up\n",
    "\n",
    "The first thing we'll need to do is load in the libraries we'll be using."
   ]
  },
  {
   "cell_type": "code",
   "execution_count": 2,
   "id": "fa436231",
   "metadata": {
    "execution": {
     "iopub.execute_input": "2021-08-12T17:03:49.821729Z",
     "iopub.status.busy": "2021-08-12T17:03:49.820913Z",
     "iopub.status.idle": "2021-08-12T17:03:49.824681Z",
     "shell.execute_reply": "2021-08-12T17:03:49.824109Z",
     "shell.execute_reply.started": "2021-08-12T16:54:16.214194Z"
    },
    "papermill": {
     "duration": 0.02528,
     "end_time": "2021-08-12T17:03:49.824860",
     "exception": false,
     "start_time": "2021-08-12T17:03:49.799580",
     "status": "completed"
    },
    "tags": []
   },
   "outputs": [],
   "source": [
    "# modules we'll use\n",
    "import pandas as pd\n",
    "import numpy as np\n",
    "\n",
    "# helpful character encoding module\n",
    "import chardet\n",
    "\n",
    "# set seed for reproducibility\n",
    "np.random.seed(0)"
   ]
  },
  {
   "cell_type": "markdown",
   "id": "7de4d8f8",
   "metadata": {
    "papermill": {
     "duration": 0.015576,
     "end_time": "2021-08-12T17:03:49.856485",
     "exception": false,
     "start_time": "2021-08-12T17:03:49.840909",
     "status": "completed"
    },
    "tags": []
   },
   "source": [
    "# 1) What are encodings?\n",
    "\n",
    "You're working with a dataset composed of bytes.  Run the code cell below to print a sample entry."
   ]
  },
  {
   "cell_type": "code",
   "execution_count": 3,
   "id": "9151677a",
   "metadata": {
    "execution": {
     "iopub.execute_input": "2021-08-12T17:03:49.899617Z",
     "iopub.status.busy": "2021-08-12T17:03:49.898478Z",
     "iopub.status.idle": "2021-08-12T17:03:49.902867Z",
     "shell.execute_reply": "2021-08-12T17:03:49.902334Z",
     "shell.execute_reply.started": "2021-08-12T16:54:31.488357Z"
    },
    "papermill": {
     "duration": 0.030188,
     "end_time": "2021-08-12T17:03:49.903032",
     "exception": false,
     "start_time": "2021-08-12T17:03:49.872844",
     "status": "completed"
    },
    "tags": []
   },
   "outputs": [
    {
     "name": "stdout",
     "output_type": "stream",
     "text": [
      "b'\\xa7A\\xa6n'\n",
      "data type: <class 'bytes'>\n"
     ]
    }
   ],
   "source": [
    "sample_entry = b'\\xa7A\\xa6n'\n",
    "print(sample_entry)\n",
    "print('data type:', type(sample_entry))"
   ]
  },
  {
   "cell_type": "markdown",
   "id": "4370a109",
   "metadata": {
    "papermill": {
     "duration": 0.014609,
     "end_time": "2021-08-12T17:03:49.933258",
     "exception": false,
     "start_time": "2021-08-12T17:03:49.918649",
     "status": "completed"
    },
    "tags": []
   },
   "source": [
    "You notice that it doesn't use the standard UTF-8 encoding. \n",
    "\n",
    "Use the next code cell to create a variable `new_entry` that changes the encoding from `\"big5-tw\"` to `\"utf-8\"`.  `new_entry` should have the bytes datatype."
   ]
  },
  {
   "cell_type": "code",
   "execution_count": 4,
   "id": "eca19042",
   "metadata": {
    "execution": {
     "iopub.execute_input": "2021-08-12T17:03:49.974793Z",
     "iopub.status.busy": "2021-08-12T17:03:49.973597Z",
     "iopub.status.idle": "2021-08-12T17:03:49.979970Z",
     "shell.execute_reply": "2021-08-12T17:03:49.980590Z",
     "shell.execute_reply.started": "2021-08-12T16:57:23.969566Z"
    },
    "papermill": {
     "duration": 0.031497,
     "end_time": "2021-08-12T17:03:49.980828",
     "exception": false,
     "start_time": "2021-08-12T17:03:49.949331",
     "status": "completed"
    },
    "tags": []
   },
   "outputs": [
    {
     "data": {
      "application/javascript": [
       "parent.postMessage({\"jupyterEvent\": \"custom.exercise_interaction\", \"data\": {\"outcomeType\": 1, \"valueTowardsCompletion\": 0.3333333333333333, \"interactionType\": 1, \"questionType\": 1, \"questionId\": \"1_EncodingsIntro\", \"learnToolsVersion\": \"0.3.4\", \"failureMessage\": \"\", \"exceptionClass\": \"\", \"trace\": \"\"}}, \"*\")"
      ],
      "text/plain": [
       "<IPython.core.display.Javascript object>"
      ]
     },
     "metadata": {},
     "output_type": "display_data"
    },
    {
     "data": {
      "text/markdown": [
       "<span style=\"color:#33cc33\">Correct</span>"
      ],
      "text/plain": [
       "Correct"
      ]
     },
     "metadata": {},
     "output_type": "display_data"
    }
   ],
   "source": [
    "before = sample_entry.decode(\"big5-tw\")\n",
    "new_entry = before.encode()\n",
    "\n",
    "# Check your answer\n",
    "q1.check()"
   ]
  },
  {
   "cell_type": "code",
   "execution_count": 5,
   "id": "cfa2d0c4",
   "metadata": {
    "execution": {
     "iopub.execute_input": "2021-08-12T17:03:50.021793Z",
     "iopub.status.busy": "2021-08-12T17:03:50.020836Z",
     "iopub.status.idle": "2021-08-12T17:03:50.024500Z",
     "shell.execute_reply": "2021-08-12T17:03:50.025637Z",
     "shell.execute_reply.started": "2021-08-12T16:57:29.077674Z"
    },
    "papermill": {
     "duration": 0.028047,
     "end_time": "2021-08-12T17:03:50.025914",
     "exception": false,
     "start_time": "2021-08-12T17:03:49.997867",
     "status": "completed"
    },
    "tags": []
   },
   "outputs": [],
   "source": [
    "# Lines below will give you a hint or solution code\n",
    "#q1.hint()\n",
    "#q1.solution()"
   ]
  },
  {
   "cell_type": "markdown",
   "id": "37064465",
   "metadata": {
    "papermill": {
     "duration": 0.015705,
     "end_time": "2021-08-12T17:03:50.060134",
     "exception": false,
     "start_time": "2021-08-12T17:03:50.044429",
     "status": "completed"
    },
    "tags": []
   },
   "source": [
    "# 2) Reading in files with encoding problems\n",
    "\n",
    "Use the code cell below to read in this file at path `\"../input/fatal-police-shootings-in-the-us/PoliceKillingsUS.csv\"`.  \n",
    "\n",
    "Figure out what the correct encoding should be and read in the file to a DataFrame `police_killings`."
   ]
  },
  {
   "cell_type": "code",
   "execution_count": 6,
   "id": "415306dd",
   "metadata": {
    "execution": {
     "iopub.execute_input": "2021-08-12T17:03:50.099729Z",
     "iopub.status.busy": "2021-08-12T17:03:50.098870Z",
     "iopub.status.idle": "2021-08-12T17:03:50.131685Z",
     "shell.execute_reply": "2021-08-12T17:03:50.132327Z",
     "shell.execute_reply.started": "2021-08-12T17:01:30.670778Z"
    },
    "papermill": {
     "duration": 0.054786,
     "end_time": "2021-08-12T17:03:50.132558",
     "exception": false,
     "start_time": "2021-08-12T17:03:50.077772",
     "status": "completed"
    },
    "tags": []
   },
   "outputs": [
    {
     "data": {
      "application/javascript": [
       "parent.postMessage({\"jupyterEvent\": \"custom.exercise_interaction\", \"data\": {\"outcomeType\": 1, \"valueTowardsCompletion\": 0.3333333333333333, \"interactionType\": 1, \"questionType\": 1, \"questionId\": \"2_ReadIn\", \"learnToolsVersion\": \"0.3.4\", \"failureMessage\": \"\", \"exceptionClass\": \"\", \"trace\": \"\"}}, \"*\")"
      ],
      "text/plain": [
       "<IPython.core.display.Javascript object>"
      ]
     },
     "metadata": {},
     "output_type": "display_data"
    },
    {
     "data": {
      "text/markdown": [
       "<span style=\"color:#33cc33\">Correct</span>"
      ],
      "text/plain": [
       "Correct"
      ]
     },
     "metadata": {},
     "output_type": "display_data"
    }
   ],
   "source": [
    "# TODO: Load in the DataFrame correctly.\n",
    "\n",
    "police_killings = pd.read_csv(\"../input/fatal-police-shootings-in-the-us/PoliceKillingsUS.csv\", encoding = \"windows-1252\") \n",
    "\n",
    "# Check your answer\n",
    "q2.check()"
   ]
  },
  {
   "cell_type": "markdown",
   "id": "f2a6c361",
   "metadata": {
    "papermill": {
     "duration": 0.019088,
     "end_time": "2021-08-12T17:03:50.169986",
     "exception": false,
     "start_time": "2021-08-12T17:03:50.150898",
     "status": "completed"
    },
    "tags": []
   },
   "source": [
    "Feel free to use any additional code cells for supplemental work.  To get credit for finishing this question, you'll need to run `q2.check()` and get a result of **Correct**."
   ]
  },
  {
   "cell_type": "code",
   "execution_count": 7,
   "id": "16b8de63",
   "metadata": {
    "execution": {
     "iopub.execute_input": "2021-08-12T17:03:50.212348Z",
     "iopub.status.busy": "2021-08-12T17:03:50.211355Z",
     "iopub.status.idle": "2021-08-12T17:03:50.216432Z",
     "shell.execute_reply": "2021-08-12T17:03:50.215648Z"
    },
    "papermill": {
     "duration": 0.029781,
     "end_time": "2021-08-12T17:03:50.216615",
     "exception": false,
     "start_time": "2021-08-12T17:03:50.186834",
     "status": "completed"
    },
    "tags": []
   },
   "outputs": [],
   "source": [
    "# (Optional) Use this code cell for any additional work."
   ]
  },
  {
   "cell_type": "code",
   "execution_count": 8,
   "id": "850ab063",
   "metadata": {
    "execution": {
     "iopub.execute_input": "2021-08-12T17:03:50.258854Z",
     "iopub.status.busy": "2021-08-12T17:03:50.258114Z",
     "iopub.status.idle": "2021-08-12T17:03:50.261695Z",
     "shell.execute_reply": "2021-08-12T17:03:50.262265Z",
     "shell.execute_reply.started": "2021-08-12T17:01:45.410189Z"
    },
    "papermill": {
     "duration": 0.027424,
     "end_time": "2021-08-12T17:03:50.262517",
     "exception": false,
     "start_time": "2021-08-12T17:03:50.235093",
     "status": "completed"
    },
    "tags": []
   },
   "outputs": [],
   "source": [
    "# Lines below will give you a hint or solution code\n",
    "#q2.hint()\n",
    "#q2.solution()"
   ]
  },
  {
   "cell_type": "markdown",
   "id": "4e467454",
   "metadata": {
    "papermill": {
     "duration": 0.017611,
     "end_time": "2021-08-12T17:03:50.298734",
     "exception": false,
     "start_time": "2021-08-12T17:03:50.281123",
     "status": "completed"
    },
    "tags": []
   },
   "source": [
    "# 3) Saving your files with UTF-8 encoding\n",
    "\n",
    "Save a version of the police killings dataset to CSV with UTF-8 encoding.  Your answer will be marked correct after saving this file.  \n",
    "\n",
    "Note: When using the `to_csv()` method, supply only the name of the file (e.g., `\"my_file.csv\"`).  This saves the file at the filepath `\"/kaggle/working/my_file.csv\"`."
   ]
  },
  {
   "cell_type": "code",
   "execution_count": 9,
   "id": "ededf1ce",
   "metadata": {
    "execution": {
     "iopub.execute_input": "2021-08-12T17:03:50.343025Z",
     "iopub.status.busy": "2021-08-12T17:03:50.341873Z",
     "iopub.status.idle": "2021-08-12T17:03:50.391399Z",
     "shell.execute_reply": "2021-08-12T17:03:50.391900Z",
     "shell.execute_reply.started": "2021-08-12T17:02:54.293089Z"
    },
    "papermill": {
     "duration": 0.073681,
     "end_time": "2021-08-12T17:03:50.392123",
     "exception": false,
     "start_time": "2021-08-12T17:03:50.318442",
     "status": "completed"
    },
    "tags": []
   },
   "outputs": [
    {
     "data": {
      "application/javascript": [
       "parent.postMessage({\"jupyterEvent\": \"custom.exercise_interaction\", \"data\": {\"outcomeType\": 1, \"valueTowardsCompletion\": 0.3333333333333333, \"interactionType\": 1, \"questionType\": 2, \"questionId\": \"3_SaveCSV\", \"learnToolsVersion\": \"0.3.4\", \"failureMessage\": \"\", \"exceptionClass\": \"\", \"trace\": \"\"}}, \"*\")"
      ],
      "text/plain": [
       "<IPython.core.display.Javascript object>"
      ]
     },
     "metadata": {},
     "output_type": "display_data"
    },
    {
     "data": {
      "text/markdown": [
       "<span style=\"color:#33cc33\">Correct</span>"
      ],
      "text/plain": [
       "Correct"
      ]
     },
     "metadata": {},
     "output_type": "display_data"
    }
   ],
   "source": [
    "# TODO: Save the police killings dataset to CSV\n",
    "police_killings.to_csv(\"my_file.csv\")\n",
    "\n",
    "# Check your answer\n",
    "q3.check()"
   ]
  },
  {
   "cell_type": "code",
   "execution_count": 10,
   "id": "ebe1c47c",
   "metadata": {
    "execution": {
     "iopub.execute_input": "2021-08-12T17:03:50.434785Z",
     "iopub.status.busy": "2021-08-12T17:03:50.433988Z",
     "iopub.status.idle": "2021-08-12T17:03:50.436641Z",
     "shell.execute_reply": "2021-08-12T17:03:50.437154Z",
     "shell.execute_reply.started": "2021-08-12T17:03:07.738514Z"
    },
    "papermill": {
     "duration": 0.025838,
     "end_time": "2021-08-12T17:03:50.437372",
     "exception": false,
     "start_time": "2021-08-12T17:03:50.411534",
     "status": "completed"
    },
    "tags": []
   },
   "outputs": [],
   "source": [
    "# Lines below will give you a hint or solution code\n",
    "#q3.hint()\n",
    "#q3.solution()"
   ]
  },
  {
   "cell_type": "markdown",
   "id": "94afbe03",
   "metadata": {
    "papermill": {
     "duration": 0.01889,
     "end_time": "2021-08-12T17:03:50.474230",
     "exception": false,
     "start_time": "2021-08-12T17:03:50.455340",
     "status": "completed"
    },
    "tags": []
   },
   "source": [
    "# (Optional) More practice\n",
    "\n",
    "Check out [this dataset of files in different character encodings](https://www.kaggle.com/rtatman/character-encoding-examples). Can you read in all the files with their original encodings and them save them out as UTF-8 files?\n",
    "\n",
    "If you have a file that's in UTF-8 but has just a couple of weird-looking characters in it, you can try out the [ftfy module](https://ftfy.readthedocs.io/en/latest/#) and see if it helps. \n",
    "\n",
    "# Keep going\n",
    "\n",
    "In the final lesson, learn how to [**clean up inconsistent text entries**](https://www.kaggle.com/alexisbcook/inconsistent-data-entry) in your dataset."
   ]
  },
  {
   "cell_type": "markdown",
   "id": "3731f2de",
   "metadata": {
    "papermill": {
     "duration": 0.019966,
     "end_time": "2021-08-12T17:03:50.513719",
     "exception": false,
     "start_time": "2021-08-12T17:03:50.493753",
     "status": "completed"
    },
    "tags": []
   },
   "source": [
    "---\n",
    "\n",
    "\n",
    "\n",
    "\n",
    "*Have questions or comments? Visit the [Learn Discussion forum](https://www.kaggle.com/learn-forum/172650) to chat with other Learners.*"
   ]
  }
 ],
 "metadata": {
  "kernelspec": {
   "display_name": "Python 3",
   "language": "python",
   "name": "python3"
  },
  "language_info": {
   "codemirror_mode": {
    "name": "ipython",
    "version": 3
   },
   "file_extension": ".py",
   "mimetype": "text/x-python",
   "name": "python",
   "nbconvert_exporter": "python",
   "pygments_lexer": "ipython3",
   "version": "3.7.10"
  },
  "papermill": {
   "default_parameters": {},
   "duration": 13.927928,
   "end_time": "2021-08-12T17:03:51.546528",
   "environment_variables": {},
   "exception": null,
   "input_path": "__notebook__.ipynb",
   "output_path": "__notebook__.ipynb",
   "parameters": {},
   "start_time": "2021-08-12T17:03:37.618600",
   "version": "2.3.3"
  }
 },
 "nbformat": 4,
 "nbformat_minor": 5
}
