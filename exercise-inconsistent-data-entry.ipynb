{
 "cells": [
  {
   "cell_type": "markdown",
   "id": "d3bd617e",
   "metadata": {
    "papermill": {
     "duration": 0.014107,
     "end_time": "2021-08-12T18:01:16.273777",
     "exception": false,
     "start_time": "2021-08-12T18:01:16.259670",
     "status": "completed"
    },
    "tags": []
   },
   "source": [
    "**This notebook is an exercise in the [Data Cleaning](https://www.kaggle.com/learn/data-cleaning) course.  You can reference the tutorial at [this link](https://www.kaggle.com/alexisbcook/inconsistent-data-entry).**\n",
    "\n",
    "---\n"
   ]
  },
  {
   "cell_type": "markdown",
   "id": "5c9e9fd2",
   "metadata": {
    "papermill": {
     "duration": 0.011406,
     "end_time": "2021-08-12T18:01:16.299352",
     "exception": false,
     "start_time": "2021-08-12T18:01:16.287946",
     "status": "completed"
    },
    "tags": []
   },
   "source": [
    "In this exercise, you'll apply what you learned in the **Inconsistent data entry** tutorial.\n",
    "\n",
    "# Setup\n",
    "\n",
    "The questions below will give you feedback on your work. Run the following cell to set up the feedback system."
   ]
  },
  {
   "cell_type": "code",
   "execution_count": 1,
   "id": "be1a5888",
   "metadata": {
    "execution": {
     "iopub.execute_input": "2021-08-12T18:01:16.327972Z",
     "iopub.status.busy": "2021-08-12T18:01:16.326305Z",
     "iopub.status.idle": "2021-08-12T18:01:16.509216Z",
     "shell.execute_reply": "2021-08-12T18:01:16.509697Z",
     "shell.execute_reply.started": "2021-08-12T17:52:03.870578Z"
    },
    "papermill": {
     "duration": 0.199252,
     "end_time": "2021-08-12T18:01:16.509985",
     "exception": false,
     "start_time": "2021-08-12T18:01:16.310733",
     "status": "completed"
    },
    "tags": []
   },
   "outputs": [
    {
     "name": "stdout",
     "output_type": "stream",
     "text": [
      "Setup Complete\n"
     ]
    }
   ],
   "source": [
    "from learntools.core import binder\n",
    "binder.bind(globals())\n",
    "from learntools.data_cleaning.ex5 import *\n",
    "print(\"Setup Complete\")"
   ]
  },
  {
   "cell_type": "markdown",
   "id": "d8b2474f",
   "metadata": {
    "papermill": {
     "duration": 0.011315,
     "end_time": "2021-08-12T18:01:16.533700",
     "exception": false,
     "start_time": "2021-08-12T18:01:16.522385",
     "status": "completed"
    },
    "tags": []
   },
   "source": [
    "# Get our environment set up\n",
    "\n",
    "The first thing we'll need to do is load in the libraries and dataset we'll be using.  We use the same dataset from the tutorial."
   ]
  },
  {
   "cell_type": "code",
   "execution_count": 2,
   "id": "2dff6710",
   "metadata": {
    "execution": {
     "iopub.execute_input": "2021-08-12T18:01:16.559631Z",
     "iopub.status.busy": "2021-08-12T18:01:16.559019Z",
     "iopub.status.idle": "2021-08-12T18:01:16.574312Z",
     "shell.execute_reply": "2021-08-12T18:01:16.574879Z",
     "shell.execute_reply.started": "2021-08-12T17:52:13.451393Z"
    },
    "papermill": {
     "duration": 0.029889,
     "end_time": "2021-08-12T18:01:16.575051",
     "exception": false,
     "start_time": "2021-08-12T18:01:16.545162",
     "status": "completed"
    },
    "tags": []
   },
   "outputs": [],
   "source": [
    "# modules we'll use\n",
    "import pandas as pd\n",
    "import numpy as np\n",
    "\n",
    "# helpful modules\n",
    "import fuzzywuzzy\n",
    "from fuzzywuzzy import process\n",
    "import chardet\n",
    "\n",
    "# read in all our data\n",
    "professors = pd.read_csv(\"../input/pakistan-intellectual-capital/pakistan_intellectual_capital.csv\")\n",
    "\n",
    "# set seed for reproducibility\n",
    "np.random.seed(0)"
   ]
  },
  {
   "cell_type": "markdown",
   "id": "3ea63bf3",
   "metadata": {
    "papermill": {
     "duration": 0.011758,
     "end_time": "2021-08-12T18:01:16.598486",
     "exception": false,
     "start_time": "2021-08-12T18:01:16.586728",
     "status": "completed"
    },
    "tags": []
   },
   "source": [
    "Next, we'll redo all of the work that we did in the tutorial."
   ]
  },
  {
   "cell_type": "code",
   "execution_count": 3,
   "id": "fe83b616",
   "metadata": {
    "execution": {
     "iopub.execute_input": "2021-08-12T18:01:16.624694Z",
     "iopub.status.busy": "2021-08-12T18:01:16.624044Z",
     "iopub.status.idle": "2021-08-12T18:01:16.636382Z",
     "shell.execute_reply": "2021-08-12T18:01:16.636833Z",
     "shell.execute_reply.started": "2021-08-12T17:53:36.889831Z"
    },
    "papermill": {
     "duration": 0.027041,
     "end_time": "2021-08-12T18:01:16.636999",
     "exception": false,
     "start_time": "2021-08-12T18:01:16.609958",
     "status": "completed"
    },
    "tags": []
   },
   "outputs": [
    {
     "name": "stdout",
     "output_type": "stream",
     "text": [
      "All done!\n"
     ]
    }
   ],
   "source": [
    "# convert to lower case\n",
    "professors['Country'] = professors['Country'].str.lower()\n",
    "# remove trailing white spaces\n",
    "professors['Country'] = professors['Country'].str.strip()\n",
    "\n",
    "# get the top 10 closest matches to \"south korea\"\n",
    "countries = professors['Country'].unique()\n",
    "matches = fuzzywuzzy.process.extract(\"south korea\", countries, limit=10, scorer=fuzzywuzzy.fuzz.token_sort_ratio)\n",
    "\n",
    "def replace_matches_in_column(df, column, string_to_match, min_ratio = 47):\n",
    "    # get a list of unique strings\n",
    "    strings = df[column].unique()\n",
    "    \n",
    "    # get the top 10 closest matches to our input string\n",
    "    matches = fuzzywuzzy.process.extract(string_to_match, strings, \n",
    "                                         limit=10, scorer=fuzzywuzzy.fuzz.token_sort_ratio)\n",
    "\n",
    "    # only get matches with a ratio > 90\n",
    "    close_matches = [matches[0] for matches in matches if matches[1] >= min_ratio]\n",
    "\n",
    "    # get the rows of all the close matches in our dataframe\n",
    "    rows_with_matches = df[column].isin(close_matches)\n",
    "\n",
    "    # replace all rows with close matches with the input matches \n",
    "    df.loc[rows_with_matches, column] = string_to_match\n",
    "    \n",
    "    # let us know the function's done\n",
    "    print(\"All done!\")\n",
    "    \n",
    "replace_matches_in_column(df=professors, column='Country', string_to_match=\"south korea\")\n",
    "countries = professors['Country'].unique()"
   ]
  },
  {
   "cell_type": "markdown",
   "id": "52518791",
   "metadata": {
    "papermill": {
     "duration": 0.011541,
     "end_time": "2021-08-12T18:01:16.663181",
     "exception": false,
     "start_time": "2021-08-12T18:01:16.651640",
     "status": "completed"
    },
    "tags": []
   },
   "source": [
    "# 1) Examine another column\n",
    "\n",
    "Write code below to take a look at all the unique values in the \"Graduated from\" column."
   ]
  },
  {
   "cell_type": "code",
   "execution_count": 4,
   "id": "073987b1",
   "metadata": {
    "execution": {
     "iopub.execute_input": "2021-08-12T18:01:16.691687Z",
     "iopub.status.busy": "2021-08-12T18:01:16.691080Z",
     "iopub.status.idle": "2021-08-12T18:01:16.693591Z",
     "shell.execute_reply": "2021-08-12T18:01:16.693985Z",
     "shell.execute_reply.started": "2021-08-12T17:57:08.794649Z"
    },
    "papermill": {
     "duration": 0.019209,
     "end_time": "2021-08-12T18:01:16.694144",
     "exception": false,
     "start_time": "2021-08-12T18:01:16.674935",
     "status": "completed"
    },
    "tags": []
   },
   "outputs": [],
   "source": [
    "# TODO: Your code here\n",
    "uniq = professors['Graduated from'].unique()"
   ]
  },
  {
   "cell_type": "markdown",
   "id": "2424b3d7",
   "metadata": {
    "papermill": {
     "duration": 0.01175,
     "end_time": "2021-08-12T18:01:16.718039",
     "exception": false,
     "start_time": "2021-08-12T18:01:16.706289",
     "status": "completed"
    },
    "tags": []
   },
   "source": [
    "Do you notice any inconsistencies in the data?  Can any of the inconsistencies in the data be fixed by removing white spaces at the beginning and end of cells?\n",
    "\n",
    "Once you have answered these questions, run the code cell below to get credit for your work."
   ]
  },
  {
   "cell_type": "code",
   "execution_count": 5,
   "id": "68c69610",
   "metadata": {
    "execution": {
     "iopub.execute_input": "2021-08-12T18:01:16.748370Z",
     "iopub.status.busy": "2021-08-12T18:01:16.747754Z",
     "iopub.status.idle": "2021-08-12T18:01:16.751931Z",
     "shell.execute_reply": "2021-08-12T18:01:16.752365Z",
     "shell.execute_reply.started": "2021-08-12T17:57:15.042393Z"
    },
    "papermill": {
     "duration": 0.022538,
     "end_time": "2021-08-12T18:01:16.752529",
     "exception": false,
     "start_time": "2021-08-12T18:01:16.729991",
     "status": "completed"
    },
    "tags": []
   },
   "outputs": [
    {
     "data": {
      "application/javascript": [
       "parent.postMessage({\"jupyterEvent\": \"custom.exercise_interaction\", \"data\": {\"outcomeType\": 1, \"valueTowardsCompletion\": 0.3333333333333333, \"interactionType\": 1, \"questionType\": 4, \"questionId\": \"1_ExamineProvince\", \"learnToolsVersion\": \"0.3.4\", \"failureMessage\": \"\", \"exceptionClass\": \"\", \"trace\": \"\"}}, \"*\")"
      ],
      "text/plain": [
       "<IPython.core.display.Javascript object>"
      ]
     },
     "metadata": {},
     "output_type": "display_data"
    },
    {
     "data": {
      "text/markdown": [
       "<span style=\"color:#33cc33\">Correct:</span> \n",
       "\n",
       "There are inconsistencies that can be fixed by removing white spaces at the beginning and end of cells.  For instance, \"University of Central Florida\" and \" University of Central Florida\" both appear in the column."
      ],
      "text/plain": [
       "Correct: \n",
       "\n",
       "There are inconsistencies that can be fixed by removing white spaces at the beginning and end of cells.  For instance, \"University of Central Florida\" and \" University of Central Florida\" both appear in the column."
      ]
     },
     "metadata": {},
     "output_type": "display_data"
    }
   ],
   "source": [
    "# Check your answer (Run this code cell to receive credit!)\n",
    "q1.check()"
   ]
  },
  {
   "cell_type": "code",
   "execution_count": 6,
   "id": "0a7447e2",
   "metadata": {
    "execution": {
     "iopub.execute_input": "2021-08-12T18:01:16.780231Z",
     "iopub.status.busy": "2021-08-12T18:01:16.779655Z",
     "iopub.status.idle": "2021-08-12T18:01:16.782314Z",
     "shell.execute_reply": "2021-08-12T18:01:16.782795Z",
     "shell.execute_reply.started": "2021-08-12T17:57:30.097979Z"
    },
    "papermill": {
     "duration": 0.017941,
     "end_time": "2021-08-12T18:01:16.782989",
     "exception": false,
     "start_time": "2021-08-12T18:01:16.765048",
     "status": "completed"
    },
    "tags": []
   },
   "outputs": [],
   "source": [
    "# Line below will give you a hint\n",
    "#q1.hint()"
   ]
  },
  {
   "cell_type": "markdown",
   "id": "87dde51e",
   "metadata": {
    "papermill": {
     "duration": 0.012058,
     "end_time": "2021-08-12T18:01:16.807551",
     "exception": false,
     "start_time": "2021-08-12T18:01:16.795493",
     "status": "completed"
    },
    "tags": []
   },
   "source": [
    "# 2) Do some text pre-processing\n",
    "\n",
    "Convert every entry in the \"Graduated from\" column in the `professors` DataFrame to remove white spaces at the beginning and end of cells."
   ]
  },
  {
   "cell_type": "code",
   "execution_count": 7,
   "id": "8ef908d7",
   "metadata": {
    "execution": {
     "iopub.execute_input": "2021-08-12T18:01:16.835959Z",
     "iopub.status.busy": "2021-08-12T18:01:16.835357Z",
     "iopub.status.idle": "2021-08-12T18:01:16.845735Z",
     "shell.execute_reply": "2021-08-12T18:01:16.846240Z",
     "shell.execute_reply.started": "2021-08-12T17:58:10.995898Z"
    },
    "papermill": {
     "duration": 0.026369,
     "end_time": "2021-08-12T18:01:16.846440",
     "exception": false,
     "start_time": "2021-08-12T18:01:16.820071",
     "status": "completed"
    },
    "tags": []
   },
   "outputs": [
    {
     "data": {
      "application/javascript": [
       "parent.postMessage({\"jupyterEvent\": \"custom.exercise_interaction\", \"data\": {\"outcomeType\": 1, \"valueTowardsCompletion\": 0.3333333333333333, \"interactionType\": 1, \"questionType\": 1, \"questionId\": \"2_TextProcessing\", \"learnToolsVersion\": \"0.3.4\", \"failureMessage\": \"\", \"exceptionClass\": \"\", \"trace\": \"\"}}, \"*\")"
      ],
      "text/plain": [
       "<IPython.core.display.Javascript object>"
      ]
     },
     "metadata": {},
     "output_type": "display_data"
    },
    {
     "data": {
      "text/markdown": [
       "<span style=\"color:#33cc33\">Correct</span>"
      ],
      "text/plain": [
       "Correct"
      ]
     },
     "metadata": {},
     "output_type": "display_data"
    }
   ],
   "source": [
    "# TODO: Your code here\n",
    "professors['Graduated from'] = professors['Graduated from'].str.strip()\n",
    "\n",
    "# Check your answer\n",
    "q2.check()"
   ]
  },
  {
   "cell_type": "code",
   "execution_count": 8,
   "id": "a45b493e",
   "metadata": {
    "execution": {
     "iopub.execute_input": "2021-08-12T18:01:16.877446Z",
     "iopub.status.busy": "2021-08-12T18:01:16.876642Z",
     "iopub.status.idle": "2021-08-12T18:01:16.879668Z",
     "shell.execute_reply": "2021-08-12T18:01:16.880183Z",
     "shell.execute_reply.started": "2021-08-12T17:58:15.096795Z"
    },
    "papermill": {
     "duration": 0.01972,
     "end_time": "2021-08-12T18:01:16.880377",
     "exception": false,
     "start_time": "2021-08-12T18:01:16.860657",
     "status": "completed"
    },
    "tags": []
   },
   "outputs": [],
   "source": [
    "# Lines below will give you a hint or solution code\n",
    "#q2.hint()\n",
    "#q2.solution()"
   ]
  },
  {
   "cell_type": "markdown",
   "id": "b6d03e67",
   "metadata": {
    "papermill": {
     "duration": 0.013124,
     "end_time": "2021-08-12T18:01:16.908112",
     "exception": false,
     "start_time": "2021-08-12T18:01:16.894988",
     "status": "completed"
    },
    "tags": []
   },
   "source": [
    "# 3) Continue working with countries\n",
    "\n",
    "In the tutorial, we focused on cleaning up inconsistencies in the \"Country\" column.  Run the code cell below to view the list of unique values that we ended with."
   ]
  },
  {
   "cell_type": "code",
   "execution_count": 9,
   "id": "a85a86c7",
   "metadata": {
    "execution": {
     "iopub.execute_input": "2021-08-12T18:01:16.938181Z",
     "iopub.status.busy": "2021-08-12T18:01:16.937524Z",
     "iopub.status.idle": "2021-08-12T18:01:16.946273Z",
     "shell.execute_reply": "2021-08-12T18:01:16.945730Z",
     "shell.execute_reply.started": "2021-08-12T17:58:29.355706Z"
    },
    "papermill": {
     "duration": 0.02459,
     "end_time": "2021-08-12T18:01:16.946414",
     "exception": false,
     "start_time": "2021-08-12T18:01:16.921824",
     "status": "completed"
    },
    "tags": []
   },
   "outputs": [
    {
     "data": {
      "text/plain": [
       "array(['australia', 'austria', 'canada', 'china', 'finland', 'france',\n",
       "       'germany', 'greece', 'hongkong', 'ireland', 'italy', 'japan',\n",
       "       'macau', 'malaysia', 'mauritius', 'netherland', 'new zealand',\n",
       "       'norway', 'pakistan', 'portugal', 'russian federation',\n",
       "       'saudi arabia', 'scotland', 'singapore', 'south korea', 'spain',\n",
       "       'sweden', 'thailand', 'turkey', 'uk', 'urbana', 'usa', 'usofa'],\n",
       "      dtype=object)"
      ]
     },
     "execution_count": 9,
     "metadata": {},
     "output_type": "execute_result"
    }
   ],
   "source": [
    "# get all the unique values in the 'City' column\n",
    "countries = professors['Country'].unique()\n",
    "\n",
    "# sort them alphabetically and then take a closer look\n",
    "countries.sort()\n",
    "countries"
   ]
  },
  {
   "cell_type": "markdown",
   "id": "7106660b",
   "metadata": {
    "papermill": {
     "duration": 0.013509,
     "end_time": "2021-08-12T18:01:16.974210",
     "exception": false,
     "start_time": "2021-08-12T18:01:16.960701",
     "status": "completed"
    },
    "tags": []
   },
   "source": [
    "Take another look at the \"Country\" column and see if there's any more data cleaning we need to do.\n",
    "\n",
    "It looks like 'usa' and 'usofa' should be the same country.  Correct the \"Country\" column in the dataframe so that 'usofa' appears instead as 'usa'.\n",
    "\n",
    "**Use the most recent version of the DataFrame (with the whitespaces at the beginning and end of cells removed) from question 2.**"
   ]
  },
  {
   "cell_type": "code",
   "execution_count": 10,
   "id": "ed12db96",
   "metadata": {
    "execution": {
     "iopub.execute_input": "2021-08-12T18:01:17.006227Z",
     "iopub.status.busy": "2021-08-12T18:01:17.005225Z",
     "iopub.status.idle": "2021-08-12T18:01:17.018664Z",
     "shell.execute_reply": "2021-08-12T18:01:17.018078Z",
     "shell.execute_reply.started": "2021-08-12T18:00:44.012221Z"
    },
    "papermill": {
     "duration": 0.030591,
     "end_time": "2021-08-12T18:01:17.018807",
     "exception": false,
     "start_time": "2021-08-12T18:01:16.988216",
     "status": "completed"
    },
    "tags": []
   },
   "outputs": [
    {
     "name": "stdout",
     "output_type": "stream",
     "text": [
      "All done!\n"
     ]
    },
    {
     "data": {
      "application/javascript": [
       "parent.postMessage({\"jupyterEvent\": \"custom.exercise_interaction\", \"data\": {\"outcomeType\": 1, \"valueTowardsCompletion\": 0.3333333333333333, \"interactionType\": 1, \"questionType\": 1, \"questionId\": \"3_WorkingWithCities\", \"learnToolsVersion\": \"0.3.4\", \"failureMessage\": \"\", \"exceptionClass\": \"\", \"trace\": \"\"}}, \"*\")"
      ],
      "text/plain": [
       "<IPython.core.display.Javascript object>"
      ]
     },
     "metadata": {},
     "output_type": "display_data"
    },
    {
     "data": {
      "text/markdown": [
       "<span style=\"color:#33cc33\">Correct</span>"
      ],
      "text/plain": [
       "Correct"
      ]
     },
     "metadata": {},
     "output_type": "display_data"
    }
   ],
   "source": [
    "# TODO: Your code here!\n",
    "matches = fuzzywuzzy.process.extract(\"usa\", countries, limit=10, scorer=fuzzywuzzy.fuzz.token_sort_ratio)\n",
    "replace_matches_in_column(df=professors, column='Country', string_to_match=\"usa\", min_ratio=70)\n",
    "\n",
    "# Check your answer\n",
    "q3.check()"
   ]
  },
  {
   "cell_type": "code",
   "execution_count": 11,
   "id": "9fbee802",
   "metadata": {
    "execution": {
     "iopub.execute_input": "2021-08-12T18:01:17.052200Z",
     "iopub.status.busy": "2021-08-12T18:01:17.051308Z",
     "iopub.status.idle": "2021-08-12T18:01:17.054542Z",
     "shell.execute_reply": "2021-08-12T18:01:17.054040Z",
     "shell.execute_reply.started": "2021-08-12T18:00:42.033523Z"
    },
    "papermill": {
     "duration": 0.021454,
     "end_time": "2021-08-12T18:01:17.054682",
     "exception": false,
     "start_time": "2021-08-12T18:01:17.033228",
     "status": "completed"
    },
    "tags": []
   },
   "outputs": [],
   "source": [
    "# Lines below will give you a hint or solution code\n",
    "#q3.hint()\n",
    "#q3.solution()"
   ]
  },
  {
   "cell_type": "markdown",
   "id": "f3040395",
   "metadata": {
    "papermill": {
     "duration": 0.014333,
     "end_time": "2021-08-12T18:01:17.084325",
     "exception": false,
     "start_time": "2021-08-12T18:01:17.069992",
     "status": "completed"
    },
    "tags": []
   },
   "source": [
    "# Congratulations!\n",
    "\n",
    "Congratulations for completing the **Data Cleaning** course on Kaggle Learn!\n",
    "\n",
    "To practice your new skills, you're encouraged to download and investigate some of [Kaggle's Datasets](https://www.kaggle.com/datasets)."
   ]
  },
  {
   "cell_type": "markdown",
   "id": "ac1f98f4",
   "metadata": {
    "papermill": {
     "duration": 0.014296,
     "end_time": "2021-08-12T18:01:17.114519",
     "exception": false,
     "start_time": "2021-08-12T18:01:17.100223",
     "status": "completed"
    },
    "tags": []
   },
   "source": [
    "---\n",
    "\n",
    "\n",
    "\n",
    "\n",
    "*Have questions or comments? Visit the [Learn Discussion forum](https://www.kaggle.com/learn-forum/172650) to chat with other Learners.*"
   ]
  }
 ],
 "metadata": {
  "kernelspec": {
   "display_name": "Python 3",
   "language": "python",
   "name": "python3"
  },
  "language_info": {
   "codemirror_mode": {
    "name": "ipython",
    "version": 3
   },
   "file_extension": ".py",
   "mimetype": "text/x-python",
   "name": "python",
   "nbconvert_exporter": "python",
   "pygments_lexer": "ipython3",
   "version": "3.7.10"
  },
  "papermill": {
   "default_parameters": {},
   "duration": 8.183814,
   "end_time": "2021-08-12T18:01:17.739454",
   "environment_variables": {},
   "exception": null,
   "input_path": "__notebook__.ipynb",
   "output_path": "__notebook__.ipynb",
   "parameters": {},
   "start_time": "2021-08-12T18:01:09.555640",
   "version": "2.3.3"
  }
 },
 "nbformat": 4,
 "nbformat_minor": 5
}
